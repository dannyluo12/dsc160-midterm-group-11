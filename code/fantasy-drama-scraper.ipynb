{
 "cells": [
  {
   "cell_type": "code",
   "execution_count": 158,
   "metadata": {},
   "outputs": [],
   "source": [
    "from bs4 import BeautifulSoup\n",
    "import pandas as pd\n",
    "from urllib.request import urlretrieve\n",
    "import time"
   ]
  },
  {
   "cell_type": "code",
   "execution_count": 159,
   "metadata": {},
   "outputs": [
    {
     "data": {
      "text/html": [
       "<div>\n",
       "<style scoped>\n",
       "    .dataframe tbody tr th:only-of-type {\n",
       "        vertical-align: middle;\n",
       "    }\n",
       "\n",
       "    .dataframe tbody tr th {\n",
       "        vertical-align: top;\n",
       "    }\n",
       "\n",
       "    .dataframe thead th {\n",
       "        text-align: right;\n",
       "    }\n",
       "</style>\n",
       "<table border=\"1\" class=\"dataframe\">\n",
       "  <thead>\n",
       "    <tr style=\"text-align: right;\">\n",
       "      <th></th>\n",
       "      <th>imdbId</th>\n",
       "      <th>Imdb Link</th>\n",
       "      <th>Title</th>\n",
       "      <th>IMDB Score</th>\n",
       "      <th>Genre</th>\n",
       "      <th>Poster</th>\n",
       "    </tr>\n",
       "  </thead>\n",
       "  <tbody>\n",
       "    <tr>\n",
       "      <th>0</th>\n",
       "      <td>114709</td>\n",
       "      <td>http://www.imdb.com/title/tt114709</td>\n",
       "      <td>Toy Story (1995)</td>\n",
       "      <td>8.3</td>\n",
       "      <td>Animation|Adventure|Comedy</td>\n",
       "      <td>https://images-na.ssl-images-amazon.com/images...</td>\n",
       "    </tr>\n",
       "    <tr>\n",
       "      <th>1</th>\n",
       "      <td>113497</td>\n",
       "      <td>http://www.imdb.com/title/tt113497</td>\n",
       "      <td>Jumanji (1995)</td>\n",
       "      <td>6.9</td>\n",
       "      <td>Action|Adventure|Family</td>\n",
       "      <td>https://images-na.ssl-images-amazon.com/images...</td>\n",
       "    </tr>\n",
       "    <tr>\n",
       "      <th>2</th>\n",
       "      <td>113228</td>\n",
       "      <td>http://www.imdb.com/title/tt113228</td>\n",
       "      <td>Grumpier Old Men (1995)</td>\n",
       "      <td>6.6</td>\n",
       "      <td>Comedy|Romance</td>\n",
       "      <td>https://images-na.ssl-images-amazon.com/images...</td>\n",
       "    </tr>\n",
       "    <tr>\n",
       "      <th>3</th>\n",
       "      <td>114885</td>\n",
       "      <td>http://www.imdb.com/title/tt114885</td>\n",
       "      <td>Waiting to Exhale (1995)</td>\n",
       "      <td>5.7</td>\n",
       "      <td>Comedy|Drama|Romance</td>\n",
       "      <td>https://images-na.ssl-images-amazon.com/images...</td>\n",
       "    </tr>\n",
       "    <tr>\n",
       "      <th>4</th>\n",
       "      <td>113041</td>\n",
       "      <td>http://www.imdb.com/title/tt113041</td>\n",
       "      <td>Father of the Bride Part II (1995)</td>\n",
       "      <td>5.9</td>\n",
       "      <td>Comedy|Family|Romance</td>\n",
       "      <td>https://images-na.ssl-images-amazon.com/images...</td>\n",
       "    </tr>\n",
       "  </tbody>\n",
       "</table>\n",
       "</div>"
      ],
      "text/plain": [
       "   imdbId                           Imdb Link  \\\n",
       "0  114709  http://www.imdb.com/title/tt114709   \n",
       "1  113497  http://www.imdb.com/title/tt113497   \n",
       "2  113228  http://www.imdb.com/title/tt113228   \n",
       "3  114885  http://www.imdb.com/title/tt114885   \n",
       "4  113041  http://www.imdb.com/title/tt113041   \n",
       "\n",
       "                                Title  IMDB Score                       Genre  \\\n",
       "0                    Toy Story (1995)         8.3  Animation|Adventure|Comedy   \n",
       "1                      Jumanji (1995)         6.9     Action|Adventure|Family   \n",
       "2             Grumpier Old Men (1995)         6.6              Comedy|Romance   \n",
       "3            Waiting to Exhale (1995)         5.7        Comedy|Drama|Romance   \n",
       "4  Father of the Bride Part II (1995)         5.9       Comedy|Family|Romance   \n",
       "\n",
       "                                              Poster  \n",
       "0  https://images-na.ssl-images-amazon.com/images...  \n",
       "1  https://images-na.ssl-images-amazon.com/images...  \n",
       "2  https://images-na.ssl-images-amazon.com/images...  \n",
       "3  https://images-na.ssl-images-amazon.com/images...  \n",
       "4  https://images-na.ssl-images-amazon.com/images...  "
      ]
     },
     "execution_count": 159,
     "metadata": {},
     "output_type": "execute_result"
    }
   ],
   "source": [
    "# Data sourced from Kaggle: https://www.kaggle.com/neha1703/movie-genre-from-its-poster#MovieGenre.csv\n",
    "path = \"./data/MovieGenre.csv\"\n",
    "movies_df = pd.read_csv(path, encoding = \"ISO-8859-1\")\n",
    "movies_df.head()"
   ]
  },
  {
   "cell_type": "code",
   "execution_count": 160,
   "metadata": {},
   "outputs": [],
   "source": [
    "def retrieve_poster(ids, urls, data_path, limit):\n",
    "    idx = 0\n",
    "    for i in range(len(urls)):\n",
    "        if idx==limit:\n",
    "            break\n",
    "        try:\n",
    "            urlretrieve(urls[i], data_path + str(ids[i]) + \".jpg\")\n",
    "            idx += 1\n",
    "        except Exception as e:\n",
    "            continue"
   ]
  },
  {
   "cell_type": "code",
   "execution_count": 161,
   "metadata": {},
   "outputs": [],
   "source": [
    "movies_df_nan = movies_df.dropna(subset=['Genre','Poster'])\n",
    "movies_df_drama = movies_df_nan[movies_df_nan['Genre'].str.contains('Drama')]\n",
    "movies_df_fantasy = movies_df_nan[movies_df_nan['Genre'].str.contains('Fantasy')]"
   ]
  },
  {
   "cell_type": "code",
   "execution_count": 162,
   "metadata": {},
   "outputs": [],
   "source": [
    "ids = movies_df_fantasy[\"imdbId\"]\n",
    "urls = movies_df_fantasy[\"Poster\"]\n",
    "data_path = \"data/posters/fantasy/\"\n",
    "retrieve_poster(ids, urls, data_path, 2000)"
   ]
  },
  {
   "cell_type": "code",
   "execution_count": 163,
   "metadata": {},
   "outputs": [],
   "source": [
    "ids = movies_df_drama[\"imdbId\"]\n",
    "urls = movies_df_drama[\"Poster\"]\n",
    "data_path = \"data/posters/drama/\"\n",
    "retrieve_poster(ids, urls, data_path, 2000)"
   ]
  },
  {
   "cell_type": "code",
   "execution_count": 167,
   "metadata": {},
   "outputs": [],
   "source": [
    "import os"
   ]
  },
  {
   "cell_type": "code",
   "execution_count": 180,
   "metadata": {},
   "outputs": [],
   "source": [
    "os.chdir('..')"
   ]
  },
  {
   "cell_type": "code",
   "execution_count": 178,
   "metadata": {},
   "outputs": [
    {
     "ename": "FileNotFoundError",
     "evalue": "[Errno 2] No such file or directory: 'data/posters/fantasy'",
     "output_type": "error",
     "traceback": [
      "\u001b[0;31m---------------------------------------------------------------------------\u001b[0m",
      "\u001b[0;31mFileNotFoundError\u001b[0m                         Traceback (most recent call last)",
      "\u001b[0;32m<ipython-input-178-0701f1ef1ee1>\u001b[0m in \u001b[0;36m<module>\u001b[0;34m\u001b[0m\n\u001b[0;32m----> 1\u001b[0;31m \u001b[0mos\u001b[0m\u001b[0;34m.\u001b[0m\u001b[0mchdir\u001b[0m\u001b[0;34m(\u001b[0m\u001b[0;34m'data/posters/fantasy'\u001b[0m\u001b[0;34m)\u001b[0m\u001b[0;34m\u001b[0m\u001b[0;34m\u001b[0m\u001b[0m\n\u001b[0m",
      "\u001b[0;31mFileNotFoundError\u001b[0m: [Errno 2] No such file or directory: 'data/posters/fantasy'"
     ]
    }
   ],
   "source": [
    "os.chdir('data/posters/fantasy')"
   ]
  },
  {
   "cell_type": "code",
   "execution_count": 175,
   "metadata": {},
   "outputs": [
    {
     "name": "stdout",
     "output_type": "stream",
     "text": [
      "('/home/ishibu/dsc160/data/posters/fantasy', [], ['109356.jpg', '110527.jpg', '110148.jpg', '82198.jpg', '119784.jpg', '116365.jpg', '91203.jpg', '111686.jpg', '107688.jpg', '120632.jpg', '112682.jpg', '119528.jpg', '109592.jpg', '116669.jpg', '84503.jpg', '113409.jpg', '97981.jpg', '101917.jpg', '113303.jpg', '98382.jpg', '103874.jpg', '53271.jpg', '81534.jpg', '75704.jpg', '115986.jpg', '62711.jpg', '114241.jpg', '112642.jpg', '117038.jpg', '101775.jpg', '61715.jpg', '67992.jpg', '50976.jpg', '108500.jpg', '110074.jpg', '103919.jpg', '82263.jpg', '89853.jpg', '38300.jpg', '76054.jpg', '118688.jpg', '89731.jpg', '109813.jpg', '111112.jpg', '32138.jpg', '120524.jpg', '42332.jpg', '118998.jpg', '101765.jpg', '120491.jpg', '117924.jpg', '112854.jpg', '107120.jpg', '115963.jpg', '115725.jpg', '119484.jpg', '99653.jpg', '113419.jpg', '58331.jpg', '108071.jpg', '113819.jpg', '83722.jpg', '107756.jpg', '97576.jpg', '114168.jpg', '97351.jpg', '117008.jpg', '93629.jpg', '82509.jpg', '119535.jpg', '119947.jpg', '38650.jpg', '120133.jpg', '120148.jpg', '13442.jpg', '71607.jpg', '112462.jpg', '110027.jpg', '112817.jpg', '109127.jpg', '117372.jpg', '113089.jpg', '39420.jpg', '109506.jpg', '93191.jpg', '114608.jpg', '52722.jpg', '56801.jpg', '116756.jpg', '119707.jpg', '117826.jpg', '118643.jpg', '84516.jpg', '29992.jpg', '29162.jpg', '112896.jpg', '93779.jpg', '119095.jpg', '116136.jpg', '114663.jpg', '113855.jpg', '99700.jpg', '101414.jpg', '114825.jpg', '106220.jpg', '93199.jpg', '116707.jpg', '110475.jpg', '113670.jpg', '56095.jpg', '110719.jpg', '120479.jpg', '117894.jpg', '87363.jpg', '117561.jpg', '117333.jpg', '107048.jpg', '29583.jpg'])\n",
      "118\n"
     ]
    }
   ],
   "source": [
    "for i in os.walk(os.getcwd()):\n",
    "    #for j in i[2]:\n",
    "    print(i)\n",
    "    print(len(i[2]))    \n",
    "    #    os.system('rm '+j)"
   ]
  },
  {
   "cell_type": "code",
   "execution_count": 181,
   "metadata": {},
   "outputs": [
    {
     "data": {
      "text/plain": [
       "'/home/ishibu/dsc160'"
      ]
     },
     "execution_count": 181,
     "metadata": {},
     "output_type": "execute_result"
    }
   ],
   "source": [
    "os.getcwd()"
   ]
  },
  {
   "cell_type": "code",
   "execution_count": 156,
   "metadata": {},
   "outputs": [],
   "source": [
    "import shutil\n",
    "shutil.rmtree(\"./data/posters\")"
   ]
  },
  {
   "cell_type": "code",
   "execution_count": null,
   "metadata": {},
   "outputs": [],
   "source": []
  }
 ],
 "metadata": {
  "kernelspec": {
   "display_name": "Python 3",
   "language": "python",
   "name": "python3"
  }
 },
 "nbformat": 4,
 "nbformat_minor": 2
}
